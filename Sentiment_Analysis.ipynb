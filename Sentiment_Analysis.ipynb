{
  "nbformat": 4,
  "nbformat_minor": 0,
  "metadata": {
    "colab": {
      "provenance": [],
      "collapsed_sections": []
    },
    "kernelspec": {
      "name": "python3",
      "display_name": "Python 3"
    },
    "language_info": {
      "name": "python"
    }
  },
  "cells": [
    {
      "cell_type": "code",
      "execution_count": null,
      "metadata": {
        "colab": {
          "base_uri": "https://localhost:8080/"
        },
        "id": "A7qgIjytzk6B",
        "outputId": "d2959cbb-fea3-48e0-bff7-a35e3a622658"
      },
      "outputs": [
        {
          "output_type": "stream",
          "name": "stdout",
          "text": [
            "Mounted at /content/drive/\n"
          ]
        }
      ],
      "source": [
        "from google.colab import drive\n",
        "drive.mount('/content/drive/')"
      ]
    },
    {
      "cell_type": "code",
      "source": [
        "import pandas as pd\n",
        "import matplotlib.pyplot as plt\n",
        "%matplotlib inline  \n",
        "import nltk\n",
        "from nltk import word_tokenize, sent_tokenize\n",
        "from nltk.corpus import stopwords\n",
        "from nltk.stem import LancasterStemmer, WordNetLemmatizer, PorterStemmer\n",
        "from wordcloud import WordCloud, STOPWORDS\n",
        "from textblob import TextBlob"
      ],
      "metadata": {
        "id": "ebDH69okzpSx"
      },
      "execution_count": null,
      "outputs": []
    },
    {
      "cell_type": "code",
      "source": [
        "fake_data = pd.read_csv(\"/content/drive/MyDrive/Fake.csv\")\n",
        "true_data = pd.read_csv(\"/content/drive/MyDrive/True.csv\")"
      ],
      "metadata": {
        "id": "hgyyI8x5zxYP"
      },
      "execution_count": null,
      "outputs": []
    },
    {
      "cell_type": "code",
      "source": [
        "frames= [fake_data,true_data]\n",
        "train_data = pd.concat(frames)"
      ],
      "metadata": {
        "id": "cBPKqw7Lz2hS"
      },
      "execution_count": null,
      "outputs": []
    },
    {
      "cell_type": "code",
      "source": [
        "train_data=train_data.reset_index()"
      ],
      "metadata": {
        "id": "EOifZ00J9WwB"
      },
      "execution_count": null,
      "outputs": []
    },
    {
      "cell_type": "code",
      "source": [
        "train_data.drop(\"date\", axis=1, inplace=True)"
      ],
      "metadata": {
        "id": "qtxgXsgAz5y8"
      },
      "execution_count": null,
      "outputs": []
    },
    {
      "cell_type": "code",
      "source": [
        "train_data['text'] = train_data['text'].astype(str)\n",
        "train_data['text'].shape\n",
        "train_data['text'].tail()"
      ],
      "metadata": {
        "colab": {
          "base_uri": "https://localhost:8080/"
        },
        "id": "PpC13e32z_Gp",
        "outputId": "b730966f-edf4-4775-bfe8-d03b68fe53ab"
      },
      "execution_count": null,
      "outputs": [
        {
          "output_type": "execute_result",
          "data": {
            "text/plain": [
              "21412    BRUSSELS (Reuters) - NATO allies on Tuesday we...\n",
              "21413    LONDON (Reuters) - LexisNexis, a provider of l...\n",
              "21414    MINSK (Reuters) - In the shadow of disused Sov...\n",
              "21415    MOSCOW (Reuters) - Vatican Secretary of State ...\n",
              "21416    JAKARTA (Reuters) - Indonesia will buy 11 Sukh...\n",
              "Name: text, dtype: object"
            ]
          },
          "metadata": {},
          "execution_count": 60
        }
      ]
    },
    {
      "cell_type": "code",
      "source": [
        "train_data['text']=train_data['text'].str.lower()\n",
        "train_data['text'].shape\n",
        "train_data['text'].tail()"
      ],
      "metadata": {
        "colab": {
          "base_uri": "https://localhost:8080/"
        },
        "id": "fg1z18s10I2f",
        "outputId": "d6ee3751-492d-436e-8d60-076770265d2e"
      },
      "execution_count": null,
      "outputs": [
        {
          "output_type": "execute_result",
          "data": {
            "text/plain": [
              "44893    brussels (reuters) - nato allies on tuesday we...\n",
              "44894    london (reuters) - lexisnexis, a provider of l...\n",
              "44895    minsk (reuters) - in the shadow of disused sov...\n",
              "44896    moscow (reuters) - vatican secretary of state ...\n",
              "44897    jakarta (reuters) - indonesia will buy 11 sukh...\n",
              "Name: text, dtype: object"
            ]
          },
          "metadata": {},
          "execution_count": 91
        }
      ]
    },
    {
      "cell_type": "code",
      "source": [
        "import nltk\n",
        "nltk.download('stopwords')\n",
        "stop = stopwords.words('english')"
      ],
      "metadata": {
        "colab": {
          "base_uri": "https://localhost:8080/"
        },
        "id": "YLQXdh762QCV",
        "outputId": "a39eb817-6a02-48f2-9528-c58d0952edd5"
      },
      "execution_count": null,
      "outputs": [
        {
          "output_type": "stream",
          "name": "stderr",
          "text": [
            "[nltk_data] Downloading package stopwords to /root/nltk_data...\n",
            "[nltk_data]   Package stopwords is already up-to-date!\n"
          ]
        }
      ]
    },
    {
      "cell_type": "code",
      "source": [
        "train_data['text']= [word for word in train_data['text'] if not word in stop]"
      ],
      "metadata": {
        "id": "61xEdpYV27dY"
      },
      "execution_count": null,
      "outputs": []
    },
    {
      "cell_type": "code",
      "source": [
        "train_data['text'] = train_data['text'].str.replace('\\W', ' ')"
      ],
      "metadata": {
        "colab": {
          "base_uri": "https://localhost:8080/"
        },
        "id": "O7YhR7vo3g5N",
        "outputId": "e45713c0-88de-4aef-a93d-b649519f191f"
      },
      "execution_count": null,
      "outputs": [
        {
          "output_type": "stream",
          "name": "stderr",
          "text": [
            "/usr/local/lib/python3.7/dist-packages/ipykernel_launcher.py:1: FutureWarning: The default value of regex will change from True to False in a future version.\n",
            "  \"\"\"Entry point for launching an IPython kernel.\n"
          ]
        }
      ]
    },
    {
      "cell_type": "code",
      "source": [
        "train_data['text']"
      ],
      "metadata": {
        "colab": {
          "base_uri": "https://localhost:8080/"
        },
        "id": "4K-p0lZA4UMi",
        "outputId": "66d0c39e-c40d-41eb-ac27-ba6961aee319"
      },
      "execution_count": null,
      "outputs": [
        {
          "output_type": "execute_result",
          "data": {
            "text/plain": [
              "0        donald trump just couldn t wish all americans ...\n",
              "1        house intelligence committee chairman devin nu...\n",
              "2        on friday  it was revealed that former milwauk...\n",
              "3        on christmas day  donald trump announced that ...\n",
              "4        pope francis used his annual christmas day mes...\n",
              "                               ...                        \n",
              "44893    brussels  reuters    nato allies on tuesday we...\n",
              "44894    london  reuters    lexisnexis  a provider of l...\n",
              "44895    minsk  reuters    in the shadow of disused sov...\n",
              "44896    moscow  reuters    vatican secretary of state ...\n",
              "44897    jakarta  reuters    indonesia will buy 11 sukh...\n",
              "Name: text, Length: 44898, dtype: object"
            ]
          },
          "metadata": {},
          "execution_count": 95
        }
      ]
    },
    {
      "cell_type": "code",
      "source": [
        "stemmer = PorterStemmer()"
      ],
      "metadata": {
        "id": "boZzZAJo6PDm"
      },
      "execution_count": null,
      "outputs": []
    },
    {
      "cell_type": "code",
      "source": [
        "train_data['text'] = [stemmer.stem(word) for word in train_data['text']]"
      ],
      "metadata": {
        "id": "ynTc4Hwd4aX0"
      },
      "execution_count": null,
      "outputs": []
    },
    {
      "cell_type": "code",
      "source": [
        "def senti(x):\n",
        "    return TextBlob(x).sentiment"
      ],
      "metadata": {
        "id": "RXVCoKgD5wgl"
      },
      "execution_count": null,
      "outputs": []
    },
    {
      "cell_type": "code",
      "source": [
        "train_data['senti_score'] = train_data['text'].apply(senti)"
      ],
      "metadata": {
        "id": "cTy9r9Wj6wLv"
      },
      "execution_count": null,
      "outputs": []
    },
    {
      "cell_type": "code",
      "source": [
        "train_data[['senti_score', 'text']]"
      ],
      "metadata": {
        "colab": {
          "base_uri": "https://localhost:8080/",
          "height": 424
        },
        "id": "OeFkpcF-62Jx",
        "outputId": "0775ddd2-4762-442f-c40d-a473b45cc481"
      },
      "execution_count": null,
      "outputs": [
        {
          "output_type": "execute_result",
          "data": {
            "text/plain": [
              "                                        senti_score  \\\n",
              "0         (0.08902777777777782, 0.5951388888888889)   \n",
              "1      (-0.004837662337662326, 0.32296176046176045)   \n",
              "2        (0.003705241786637136, 0.5436923218899964)   \n",
              "3        (0.009139784946236566, 0.3725806451612903)   \n",
              "4       (-0.011722222222222238, 0.4952222222222222)   \n",
              "...                                             ...   \n",
              "44893     (0.21530303030303027, 0.4462878787878788)   \n",
              "44894   (0.022222222222222223, 0.07777777777777778)   \n",
              "44895     (0.05065386002886002, 0.4256583694083695)   \n",
              "44896   (0.021993224167137206, 0.37775268210050816)   \n",
              "44897   (0.019264069264069268, 0.19437229437229436)   \n",
              "\n",
              "                                                    text  \n",
              "0      donald trump just couldn t wish all americans ...  \n",
              "1      house intelligence committee chairman devin nu...  \n",
              "2      on friday  it was revealed that former milwauk...  \n",
              "3      on christmas day  donald trump announced that ...  \n",
              "4      pope francis used his annual christmas day mes...  \n",
              "...                                                  ...  \n",
              "44893  brussels  reuters    nato allies on tuesday we...  \n",
              "44894  london  reuters    lexisnexis  a provider of l...  \n",
              "44895  minsk  reuters    in the shadow of disused sov...  \n",
              "44896  moscow  reuters    vatican secretary of state ...  \n",
              "44897  jakarta  reuters    indonesia will buy 11 sukh...  \n",
              "\n",
              "[44898 rows x 2 columns]"
            ],
            "text/html": [
              "\n",
              "  <div id=\"df-5b2017c1-b780-46f8-a214-09cfc2d59537\">\n",
              "    <div class=\"colab-df-container\">\n",
              "      <div>\n",
              "<style scoped>\n",
              "    .dataframe tbody tr th:only-of-type {\n",
              "        vertical-align: middle;\n",
              "    }\n",
              "\n",
              "    .dataframe tbody tr th {\n",
              "        vertical-align: top;\n",
              "    }\n",
              "\n",
              "    .dataframe thead th {\n",
              "        text-align: right;\n",
              "    }\n",
              "</style>\n",
              "<table border=\"1\" class=\"dataframe\">\n",
              "  <thead>\n",
              "    <tr style=\"text-align: right;\">\n",
              "      <th></th>\n",
              "      <th>senti_score</th>\n",
              "      <th>text</th>\n",
              "    </tr>\n",
              "  </thead>\n",
              "  <tbody>\n",
              "    <tr>\n",
              "      <th>0</th>\n",
              "      <td>(0.08902777777777782, 0.5951388888888889)</td>\n",
              "      <td>donald trump just couldn t wish all americans ...</td>\n",
              "    </tr>\n",
              "    <tr>\n",
              "      <th>1</th>\n",
              "      <td>(-0.004837662337662326, 0.32296176046176045)</td>\n",
              "      <td>house intelligence committee chairman devin nu...</td>\n",
              "    </tr>\n",
              "    <tr>\n",
              "      <th>2</th>\n",
              "      <td>(0.003705241786637136, 0.5436923218899964)</td>\n",
              "      <td>on friday  it was revealed that former milwauk...</td>\n",
              "    </tr>\n",
              "    <tr>\n",
              "      <th>3</th>\n",
              "      <td>(0.009139784946236566, 0.3725806451612903)</td>\n",
              "      <td>on christmas day  donald trump announced that ...</td>\n",
              "    </tr>\n",
              "    <tr>\n",
              "      <th>4</th>\n",
              "      <td>(-0.011722222222222238, 0.4952222222222222)</td>\n",
              "      <td>pope francis used his annual christmas day mes...</td>\n",
              "    </tr>\n",
              "    <tr>\n",
              "      <th>...</th>\n",
              "      <td>...</td>\n",
              "      <td>...</td>\n",
              "    </tr>\n",
              "    <tr>\n",
              "      <th>44893</th>\n",
              "      <td>(0.21530303030303027, 0.4462878787878788)</td>\n",
              "      <td>brussels  reuters    nato allies on tuesday we...</td>\n",
              "    </tr>\n",
              "    <tr>\n",
              "      <th>44894</th>\n",
              "      <td>(0.022222222222222223, 0.07777777777777778)</td>\n",
              "      <td>london  reuters    lexisnexis  a provider of l...</td>\n",
              "    </tr>\n",
              "    <tr>\n",
              "      <th>44895</th>\n",
              "      <td>(0.05065386002886002, 0.4256583694083695)</td>\n",
              "      <td>minsk  reuters    in the shadow of disused sov...</td>\n",
              "    </tr>\n",
              "    <tr>\n",
              "      <th>44896</th>\n",
              "      <td>(0.021993224167137206, 0.37775268210050816)</td>\n",
              "      <td>moscow  reuters    vatican secretary of state ...</td>\n",
              "    </tr>\n",
              "    <tr>\n",
              "      <th>44897</th>\n",
              "      <td>(0.019264069264069268, 0.19437229437229436)</td>\n",
              "      <td>jakarta  reuters    indonesia will buy 11 sukh...</td>\n",
              "    </tr>\n",
              "  </tbody>\n",
              "</table>\n",
              "<p>44898 rows × 2 columns</p>\n",
              "</div>\n",
              "      <button class=\"colab-df-convert\" onclick=\"convertToInteractive('df-5b2017c1-b780-46f8-a214-09cfc2d59537')\"\n",
              "              title=\"Convert this dataframe to an interactive table.\"\n",
              "              style=\"display:none;\">\n",
              "        \n",
              "  <svg xmlns=\"http://www.w3.org/2000/svg\" height=\"24px\"viewBox=\"0 0 24 24\"\n",
              "       width=\"24px\">\n",
              "    <path d=\"M0 0h24v24H0V0z\" fill=\"none\"/>\n",
              "    <path d=\"M18.56 5.44l.94 2.06.94-2.06 2.06-.94-2.06-.94-.94-2.06-.94 2.06-2.06.94zm-11 1L8.5 8.5l.94-2.06 2.06-.94-2.06-.94L8.5 2.5l-.94 2.06-2.06.94zm10 10l.94 2.06.94-2.06 2.06-.94-2.06-.94-.94-2.06-.94 2.06-2.06.94z\"/><path d=\"M17.41 7.96l-1.37-1.37c-.4-.4-.92-.59-1.43-.59-.52 0-1.04.2-1.43.59L10.3 9.45l-7.72 7.72c-.78.78-.78 2.05 0 2.83L4 21.41c.39.39.9.59 1.41.59.51 0 1.02-.2 1.41-.59l7.78-7.78 2.81-2.81c.8-.78.8-2.07 0-2.86zM5.41 20L4 18.59l7.72-7.72 1.47 1.35L5.41 20z\"/>\n",
              "  </svg>\n",
              "      </button>\n",
              "      \n",
              "  <style>\n",
              "    .colab-df-container {\n",
              "      display:flex;\n",
              "      flex-wrap:wrap;\n",
              "      gap: 12px;\n",
              "    }\n",
              "\n",
              "    .colab-df-convert {\n",
              "      background-color: #E8F0FE;\n",
              "      border: none;\n",
              "      border-radius: 50%;\n",
              "      cursor: pointer;\n",
              "      display: none;\n",
              "      fill: #1967D2;\n",
              "      height: 32px;\n",
              "      padding: 0 0 0 0;\n",
              "      width: 32px;\n",
              "    }\n",
              "\n",
              "    .colab-df-convert:hover {\n",
              "      background-color: #E2EBFA;\n",
              "      box-shadow: 0px 1px 2px rgba(60, 64, 67, 0.3), 0px 1px 3px 1px rgba(60, 64, 67, 0.15);\n",
              "      fill: #174EA6;\n",
              "    }\n",
              "\n",
              "    [theme=dark] .colab-df-convert {\n",
              "      background-color: #3B4455;\n",
              "      fill: #D2E3FC;\n",
              "    }\n",
              "\n",
              "    [theme=dark] .colab-df-convert:hover {\n",
              "      background-color: #434B5C;\n",
              "      box-shadow: 0px 1px 3px 1px rgba(0, 0, 0, 0.15);\n",
              "      filter: drop-shadow(0px 1px 2px rgba(0, 0, 0, 0.3));\n",
              "      fill: #FFFFFF;\n",
              "    }\n",
              "  </style>\n",
              "\n",
              "      <script>\n",
              "        const buttonEl =\n",
              "          document.querySelector('#df-5b2017c1-b780-46f8-a214-09cfc2d59537 button.colab-df-convert');\n",
              "        buttonEl.style.display =\n",
              "          google.colab.kernel.accessAllowed ? 'block' : 'none';\n",
              "\n",
              "        async function convertToInteractive(key) {\n",
              "          const element = document.querySelector('#df-5b2017c1-b780-46f8-a214-09cfc2d59537');\n",
              "          const dataTable =\n",
              "            await google.colab.kernel.invokeFunction('convertToInteractive',\n",
              "                                                     [key], {});\n",
              "          if (!dataTable) return;\n",
              "\n",
              "          const docLinkHtml = 'Like what you see? Visit the ' +\n",
              "            '<a target=\"_blank\" href=https://colab.research.google.com/notebooks/data_table.ipynb>data table notebook</a>'\n",
              "            + ' to learn more about interactive tables.';\n",
              "          element.innerHTML = '';\n",
              "          dataTable['output_type'] = 'display_data';\n",
              "          await google.colab.output.renderOutput(dataTable, element);\n",
              "          const docLink = document.createElement('div');\n",
              "          docLink.innerHTML = docLinkHtml;\n",
              "          element.appendChild(docLink);\n",
              "        }\n",
              "      </script>\n",
              "    </div>\n",
              "  </div>\n",
              "  "
            ]
          },
          "metadata": {},
          "execution_count": 100
        }
      ]
    },
    {
      "cell_type": "code",
      "source": [
        "train_data['senti_score'][0][0]"
      ],
      "metadata": {
        "colab": {
          "base_uri": "https://localhost:8080/"
        },
        "id": "vlfSA-Hj7Z_0",
        "outputId": "0f37d5fc-d0c6-4327-a051-2b94d1208a12"
      },
      "execution_count": null,
      "outputs": [
        {
          "output_type": "execute_result",
          "data": {
            "text/plain": [
              "0.08902777777777782"
            ]
          },
          "metadata": {},
          "execution_count": 103
        }
      ]
    },
    {
      "cell_type": "code",
      "source": [
        "pip install vaderSentiment"
      ],
      "metadata": {
        "colab": {
          "base_uri": "https://localhost:8080/"
        },
        "id": "94wulTaTc46N",
        "outputId": "b43cc45c-f77f-430f-d0a0-0734f802bca4"
      },
      "execution_count": null,
      "outputs": [
        {
          "output_type": "stream",
          "name": "stdout",
          "text": [
            "Looking in indexes: https://pypi.org/simple, https://us-python.pkg.dev/colab-wheels/public/simple/\n",
            "Collecting vaderSentiment\n",
            "  Downloading vaderSentiment-3.3.2-py2.py3-none-any.whl (125 kB)\n",
            "\u001b[?25l\r\u001b[K     |██▋                             | 10 kB 16.6 MB/s eta 0:00:01\r\u001b[K     |█████▏                          | 20 kB 21.3 MB/s eta 0:00:01\r\u001b[K     |███████▉                        | 30 kB 27.6 MB/s eta 0:00:01\r\u001b[K     |██████████▍                     | 40 kB 32.6 MB/s eta 0:00:01\r\u001b[K     |█████████████                   | 51 kB 28.9 MB/s eta 0:00:01\r\u001b[K     |███████████████▋                | 61 kB 31.3 MB/s eta 0:00:01\r\u001b[K     |██████████████████▏             | 71 kB 32.7 MB/s eta 0:00:01\r\u001b[K     |████████████████████▉           | 81 kB 29.7 MB/s eta 0:00:01\r\u001b[K     |███████████████████████▍        | 92 kB 31.5 MB/s eta 0:00:01\r\u001b[K     |██████████████████████████      | 102 kB 33.5 MB/s eta 0:00:01\r\u001b[K     |████████████████████████████▋   | 112 kB 33.5 MB/s eta 0:00:01\r\u001b[K     |███████████████████████████████▏| 122 kB 33.5 MB/s eta 0:00:01\r\u001b[K     |████████████████████████████████| 125 kB 33.5 MB/s \n",
            "\u001b[?25hRequirement already satisfied: requests in /usr/local/lib/python3.7/dist-packages (from vaderSentiment) (2.23.0)\n",
            "Requirement already satisfied: chardet<4,>=3.0.2 in /usr/local/lib/python3.7/dist-packages (from requests->vaderSentiment) (3.0.4)\n",
            "Requirement already satisfied: urllib3!=1.25.0,!=1.25.1,<1.26,>=1.21.1 in /usr/local/lib/python3.7/dist-packages (from requests->vaderSentiment) (1.24.3)\n",
            "Requirement already satisfied: certifi>=2017.4.17 in /usr/local/lib/python3.7/dist-packages (from requests->vaderSentiment) (2022.6.15)\n",
            "Requirement already satisfied: idna<3,>=2.5 in /usr/local/lib/python3.7/dist-packages (from requests->vaderSentiment) (2.10)\n",
            "Installing collected packages: vaderSentiment\n",
            "Successfully installed vaderSentiment-3.3.2\n"
          ]
        }
      ]
    },
    {
      "cell_type": "code",
      "source": [
        "from vaderSentiment.vaderSentiment import SentimentIntensityAnalyzer"
      ],
      "metadata": {
        "id": "YD5Lv6Go8fCr"
      },
      "execution_count": null,
      "outputs": []
    },
    {
      "cell_type": "code",
      "source": [
        "def sentiment_scores(sentence):\n",
        " \n",
        "    # Create a SentimentIntensityAnalyzer object.\n",
        "    sid_obj = SentimentIntensityAnalyzer()\n",
        "\n",
        "    sentiment_dict = sid_obj.polarity_scores(sentence)\n",
        "\n",
        "\n",
        "    if sentiment_dict['compound'] >= 0.05 :\n",
        "        print(\" The news seems to be Positive\")\n",
        " \n",
        "    elif sentiment_dict['compound'] <= - 0.05 :\n",
        "        print(\"The news seems to be Negative\")\n",
        " \n",
        "    else :\n",
        "        print(\"The news seems to be Neutral\")"
      ],
      "metadata": {
        "id": "pfKtLZLIcj_u"
      },
      "execution_count": null,
      "outputs": []
    },
    {
      "cell_type": "code",
      "source": [
        "sentence=\"The Queen has been the reliable heartbeat to the past 70 years for generations young and old; a leader whose selfless model of service, duty, compassion and steeliness has offered much-needed reassurance in an increasingly chaotic world.\"\n",
        "sentiment_scores(sentence)"
      ],
      "metadata": {
        "colab": {
          "base_uri": "https://localhost:8080/"
        },
        "id": "tkyhpGoic_5Q",
        "outputId": "89d397ef-3499-469b-d336-a54606d92b4d"
      },
      "execution_count": null,
      "outputs": [
        {
          "output_type": "stream",
          "name": "stdout",
          "text": [
            "Positive\n"
          ]
        }
      ]
    }
  ]
}