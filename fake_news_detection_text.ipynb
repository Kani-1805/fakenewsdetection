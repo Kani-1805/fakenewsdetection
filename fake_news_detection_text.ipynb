{
  "cells": [
    {
      "cell_type": "code",
      "execution_count": null,
      "metadata": {
        "colab": {
          "base_uri": "https://localhost:8080/"
        },
        "id": "MZqFbUDFWRl_",
        "outputId": "d8e3b3f2-a68a-4546-fc18-ad3fcb7fb193"
      },
      "outputs": [
        {
          "output_type": "stream",
          "name": "stdout",
          "text": [
            "Mounted at /content/drive/\n"
          ]
        }
      ],
      "source": [
        "from google.colab import drive\n",
        "drive.mount('/content/drive/')"
      ]
    },
    {
      "cell_type": "markdown",
      "metadata": {
        "id": "VNjjFRS_qBv-"
      },
      "source": [
        "# New section"
      ]
    },
    {
      "cell_type": "code",
      "execution_count": null,
      "metadata": {
        "colab": {
          "base_uri": "https://localhost:8080/"
        },
        "id": "XAO3FiJjUvhY",
        "outputId": "dcf3b7b1-7641-42c9-9fec-8119d7681611"
      },
      "outputs": [
        {
          "output_type": "stream",
          "name": "stderr",
          "text": [
            "[nltk_data] Downloading package stopwords to /root/nltk_data...\n",
            "[nltk_data]   Unzipping corpora/stopwords.zip.\n",
            "[nltk_data] Downloading package punkt to /root/nltk_data...\n",
            "[nltk_data]   Unzipping tokenizers/punkt.zip.\n"
          ]
        },
        {
          "output_type": "execute_result",
          "data": {
            "text/plain": [
              "True"
            ]
          },
          "metadata": {},
          "execution_count": 2
        }
      ],
      "source": [
        "# import the required libraries\n",
        "%matplotlib inline\n",
        "import pandas as pd\n",
        "import numpy as np\n",
        "import matplotlib.pyplot as plt\n",
        "import seaborn as sns\n",
        "#import re\n",
        "import nltk \n",
        "nltk.download('stopwords')\n",
        "from nltk.corpus import stopwords\n",
        "from nltk import word_tokenize    \n",
        "from nltk.tokenize import wordpunct_tokenize\n",
        "from nltk.stem import WordNetLemmatizer\n",
        "from sklearn.feature_extraction.text import TfidfVectorizer\n",
        "from sklearn.metrics import precision_score, recall_score, f1_score, accuracy_score, confusion_matrix, matthews_corrcoef\n",
        "from sklearn.ensemble import RandomForestClassifier, AdaBoostClassifier\n",
        "from sklearn.tree import DecisionTreeClassifier\n",
        "from sklearn.model_selection import train_test_split\n",
        "#from sklearn import cross_validation\n",
        "from sklearn.model_selection import cross_val_score\n",
        "from sklearn.feature_extraction.text import CountVectorizer\n",
        "from sklearn.preprocessing import LabelEncoder\n",
        "from sklearn.pipeline import Pipeline\n",
        "import pickle\n",
        "\n",
        "import nltk\n",
        "nltk.download('punkt')"
      ]
    },
    {
      "cell_type": "code",
      "execution_count": null,
      "metadata": {
        "id": "L_U151BaMedY"
      },
      "outputs": [],
      "source": [
        "#loading the data files\n",
        "fake_data = pd.read_csv(\"/content/drive/MyDrive/Fake.csv\")\n",
        "true_data = pd.read_csv(\"/content/drive/MyDrive/True.csv\")\n"
      ]
    },
    {
      "cell_type": "code",
      "execution_count": null,
      "metadata": {
        "id": "PCTN9qWXGRjn"
      },
      "outputs": [],
      "source": [
        "#adding the label col\n",
        "fake_data[\"label\"]=\"Fake\"\n",
        "true_data[\"label\"]=\"True\""
      ]
    },
    {
      "cell_type": "code",
      "execution_count": null,
      "metadata": {
        "colab": {
          "base_uri": "https://localhost:8080/"
        },
        "id": "IGdcvbv3ujti",
        "outputId": "01baf7c8-4d27-4fb5-aa15-4f37166f3a3e"
      },
      "outputs": [
        {
          "output_type": "execute_result",
          "data": {
            "text/plain": [
              "title      object\n",
              "text       object\n",
              "subject    object\n",
              "date       object\n",
              "label      object\n",
              "dtype: object"
            ]
          },
          "metadata": {},
          "execution_count": 5
        }
      ],
      "source": [
        "true_data.dtypes"
      ]
    },
    {
      "cell_type": "code",
      "execution_count": null,
      "metadata": {
        "colab": {
          "base_uri": "https://localhost:8080/"
        },
        "id": "twgeRRjKGBLe",
        "outputId": "ba406e4c-86c2-4c7b-f8be-2e291ac9c623"
      },
      "outputs": [
        {
          "output_type": "execute_result",
          "data": {
            "text/plain": [
              "title      object\n",
              "text       object\n",
              "subject    object\n",
              "date       object\n",
              "label      object\n",
              "dtype: object"
            ]
          },
          "metadata": {},
          "execution_count": 6
        }
      ],
      "source": [
        "fake_data.dtypes"
      ]
    },
    {
      "cell_type": "code",
      "execution_count": null,
      "metadata": {
        "id": "lkjxRH0hCqLy"
      },
      "outputs": [],
      "source": [
        "np.random.seed(10)\n",
        "#fake_data= fake_data.sample(10900)\n",
        "#true_data= true_data.sample(10000)"
      ]
    },
    {
      "cell_type": "code",
      "execution_count": null,
      "metadata": {
        "id": "v26EnaCfF6TO"
      },
      "outputs": [],
      "source": [
        "#merging the fake and true files to prepare the train_data file\n",
        "frames= [fake_data,true_data]\n",
        "train_data = pd.concat(frames)"
      ]
    },
    {
      "cell_type": "code",
      "execution_count": null,
      "metadata": {
        "colab": {
          "base_uri": "https://localhost:8080/"
        },
        "id": "BKrkICLN1Jh4",
        "outputId": "0ce0d9dc-6bcf-431d-a64e-9bc8f6802131"
      },
      "outputs": [
        {
          "output_type": "execute_result",
          "data": {
            "text/plain": [
              "title      0\n",
              "text       0\n",
              "subject    0\n",
              "date       0\n",
              "label      0\n",
              "dtype: int64"
            ]
          },
          "metadata": {},
          "execution_count": 9
        }
      ],
      "source": [
        "train_data.isnull().sum()"
      ]
    },
    {
      "cell_type": "code",
      "execution_count": null,
      "metadata": {
        "id": "0wDPMT3UQcwE"
      },
      "outputs": [],
      "source": [
        "#dropping the date col\n",
        "train_data.drop(\"date\", axis=1, inplace=True)"
      ]
    },
    {
      "cell_type": "code",
      "execution_count": null,
      "metadata": {
        "colab": {
          "base_uri": "https://localhost:8080/",
          "height": 206
        },
        "id": "0tVtCSnBGtFj",
        "outputId": "723bba0a-6743-4a58-af6e-53f3a6003efa"
      },
      "outputs": [
        {
          "output_type": "execute_result",
          "data": {
            "text/plain": [
              "       index                                              title  \\\n",
              "38136  14655  Two Turkish soldiers killed in northern Iraq: ...   \n",
              "19900  19900  OUCH! WATCH: Sneaky Liberal Gets Electrocuted ...   \n",
              "44204  20723  EU tells Britain to protect data or delete the...   \n",
              "44272  20791  Factbox: Caribbean and Gulf oil companies begi...   \n",
              "23718    237  Special Counsel Mueller produces evidence that...   \n",
              "\n",
              "                                                    text       subject label  \n",
              "38136  ISTANBUL (Reuters) - Two Turkish soldiers were...     worldnews  True  \n",
              "19900   Punishment is not for revenge, but to lessen ...     left-news  Fake  \n",
              "44204  BRUSSELS (Reuters) - The European Union wants ...     worldnews  True  \n",
              "44272  (Reuters) - Gulf Coast and Caribbean energy in...     worldnews  True  \n",
              "23718  WASHINGTON (Reuters) - U.S. Special Counsel Ro...  politicsNews  True  "
            ],
            "text/html": [
              "\n",
              "  <div id=\"df-129f8fe7-6a3d-497c-b279-de3b28bf2191\">\n",
              "    <div class=\"colab-df-container\">\n",
              "      <div>\n",
              "<style scoped>\n",
              "    .dataframe tbody tr th:only-of-type {\n",
              "        vertical-align: middle;\n",
              "    }\n",
              "\n",
              "    .dataframe tbody tr th {\n",
              "        vertical-align: top;\n",
              "    }\n",
              "\n",
              "    .dataframe thead th {\n",
              "        text-align: right;\n",
              "    }\n",
              "</style>\n",
              "<table border=\"1\" class=\"dataframe\">\n",
              "  <thead>\n",
              "    <tr style=\"text-align: right;\">\n",
              "      <th></th>\n",
              "      <th>index</th>\n",
              "      <th>title</th>\n",
              "      <th>text</th>\n",
              "      <th>subject</th>\n",
              "      <th>label</th>\n",
              "    </tr>\n",
              "  </thead>\n",
              "  <tbody>\n",
              "    <tr>\n",
              "      <th>38136</th>\n",
              "      <td>14655</td>\n",
              "      <td>Two Turkish soldiers killed in northern Iraq: ...</td>\n",
              "      <td>ISTANBUL (Reuters) - Two Turkish soldiers were...</td>\n",
              "      <td>worldnews</td>\n",
              "      <td>True</td>\n",
              "    </tr>\n",
              "    <tr>\n",
              "      <th>19900</th>\n",
              "      <td>19900</td>\n",
              "      <td>OUCH! WATCH: Sneaky Liberal Gets Electrocuted ...</td>\n",
              "      <td>Punishment is not for revenge, but to lessen ...</td>\n",
              "      <td>left-news</td>\n",
              "      <td>Fake</td>\n",
              "    </tr>\n",
              "    <tr>\n",
              "      <th>44204</th>\n",
              "      <td>20723</td>\n",
              "      <td>EU tells Britain to protect data or delete the...</td>\n",
              "      <td>BRUSSELS (Reuters) - The European Union wants ...</td>\n",
              "      <td>worldnews</td>\n",
              "      <td>True</td>\n",
              "    </tr>\n",
              "    <tr>\n",
              "      <th>44272</th>\n",
              "      <td>20791</td>\n",
              "      <td>Factbox: Caribbean and Gulf oil companies begi...</td>\n",
              "      <td>(Reuters) - Gulf Coast and Caribbean energy in...</td>\n",
              "      <td>worldnews</td>\n",
              "      <td>True</td>\n",
              "    </tr>\n",
              "    <tr>\n",
              "      <th>23718</th>\n",
              "      <td>237</td>\n",
              "      <td>Special Counsel Mueller produces evidence that...</td>\n",
              "      <td>WASHINGTON (Reuters) - U.S. Special Counsel Ro...</td>\n",
              "      <td>politicsNews</td>\n",
              "      <td>True</td>\n",
              "    </tr>\n",
              "  </tbody>\n",
              "</table>\n",
              "</div>\n",
              "      <button class=\"colab-df-convert\" onclick=\"convertToInteractive('df-129f8fe7-6a3d-497c-b279-de3b28bf2191')\"\n",
              "              title=\"Convert this dataframe to an interactive table.\"\n",
              "              style=\"display:none;\">\n",
              "        \n",
              "  <svg xmlns=\"http://www.w3.org/2000/svg\" height=\"24px\"viewBox=\"0 0 24 24\"\n",
              "       width=\"24px\">\n",
              "    <path d=\"M0 0h24v24H0V0z\" fill=\"none\"/>\n",
              "    <path d=\"M18.56 5.44l.94 2.06.94-2.06 2.06-.94-2.06-.94-.94-2.06-.94 2.06-2.06.94zm-11 1L8.5 8.5l.94-2.06 2.06-.94-2.06-.94L8.5 2.5l-.94 2.06-2.06.94zm10 10l.94 2.06.94-2.06 2.06-.94-2.06-.94-.94-2.06-.94 2.06-2.06.94z\"/><path d=\"M17.41 7.96l-1.37-1.37c-.4-.4-.92-.59-1.43-.59-.52 0-1.04.2-1.43.59L10.3 9.45l-7.72 7.72c-.78.78-.78 2.05 0 2.83L4 21.41c.39.39.9.59 1.41.59.51 0 1.02-.2 1.41-.59l7.78-7.78 2.81-2.81c.8-.78.8-2.07 0-2.86zM5.41 20L4 18.59l7.72-7.72 1.47 1.35L5.41 20z\"/>\n",
              "  </svg>\n",
              "      </button>\n",
              "      \n",
              "  <style>\n",
              "    .colab-df-container {\n",
              "      display:flex;\n",
              "      flex-wrap:wrap;\n",
              "      gap: 12px;\n",
              "    }\n",
              "\n",
              "    .colab-df-convert {\n",
              "      background-color: #E8F0FE;\n",
              "      border: none;\n",
              "      border-radius: 50%;\n",
              "      cursor: pointer;\n",
              "      display: none;\n",
              "      fill: #1967D2;\n",
              "      height: 32px;\n",
              "      padding: 0 0 0 0;\n",
              "      width: 32px;\n",
              "    }\n",
              "\n",
              "    .colab-df-convert:hover {\n",
              "      background-color: #E2EBFA;\n",
              "      box-shadow: 0px 1px 2px rgba(60, 64, 67, 0.3), 0px 1px 3px 1px rgba(60, 64, 67, 0.15);\n",
              "      fill: #174EA6;\n",
              "    }\n",
              "\n",
              "    [theme=dark] .colab-df-convert {\n",
              "      background-color: #3B4455;\n",
              "      fill: #D2E3FC;\n",
              "    }\n",
              "\n",
              "    [theme=dark] .colab-df-convert:hover {\n",
              "      background-color: #434B5C;\n",
              "      box-shadow: 0px 1px 3px 1px rgba(0, 0, 0, 0.15);\n",
              "      filter: drop-shadow(0px 1px 2px rgba(0, 0, 0, 0.3));\n",
              "      fill: #FFFFFF;\n",
              "    }\n",
              "  </style>\n",
              "\n",
              "      <script>\n",
              "        const buttonEl =\n",
              "          document.querySelector('#df-129f8fe7-6a3d-497c-b279-de3b28bf2191 button.colab-df-convert');\n",
              "        buttonEl.style.display =\n",
              "          google.colab.kernel.accessAllowed ? 'block' : 'none';\n",
              "\n",
              "        async function convertToInteractive(key) {\n",
              "          const element = document.querySelector('#df-129f8fe7-6a3d-497c-b279-de3b28bf2191');\n",
              "          const dataTable =\n",
              "            await google.colab.kernel.invokeFunction('convertToInteractive',\n",
              "                                                     [key], {});\n",
              "          if (!dataTable) return;\n",
              "\n",
              "          const docLinkHtml = 'Like what you see? Visit the ' +\n",
              "            '<a target=\"_blank\" href=https://colab.research.google.com/notebooks/data_table.ipynb>data table notebook</a>'\n",
              "            + ' to learn more about interactive tables.';\n",
              "          element.innerHTML = '';\n",
              "          dataTable['output_type'] = 'display_data';\n",
              "          await google.colab.output.renderOutput(dataTable, element);\n",
              "          const docLink = document.createElement('div');\n",
              "          docLink.innerHTML = docLinkHtml;\n",
              "          element.appendChild(docLink);\n",
              "        }\n",
              "      </script>\n",
              "    </div>\n",
              "  </div>\n",
              "  "
            ]
          },
          "metadata": {},
          "execution_count": 11
        }
      ],
      "source": [
        "train_data=train_data.reset_index() #reseting index of the train_data\n",
        "train_data=train_data.sample(frac = 1) #shuffling the data\n",
        "train_data=train_data.sample(frac=1)\n",
        "train_data.head()"
      ]
    },
    {
      "cell_type": "code",
      "execution_count": null,
      "metadata": {
        "id": "CuSHSZCE4eIo",
        "colab": {
          "base_uri": "https://localhost:8080/"
        },
        "outputId": "c039101c-a86e-401c-df29-bf2b19acf6ec"
      },
      "outputs": [
        {
          "output_type": "execute_result",
          "data": {
            "text/plain": [
              "array([1, 0, 1, ..., 0, 0, 1])"
            ]
          },
          "metadata": {},
          "execution_count": 12
        }
      ],
      "source": [
        "#encoding train_data.label as 0,1\n",
        "from sklearn.preprocessing import LabelEncoder\n",
        "le = LabelEncoder()\n",
        "\n",
        "y = le.fit_transform(train_data.label)\n",
        "y"
      ]
    },
    {
      "cell_type": "code",
      "source": [
        "# 0--> Fake\n",
        "# 1--> True"
      ],
      "metadata": {
        "id": "rt9ZVVZkiLub"
      },
      "execution_count": null,
      "outputs": []
    },
    {
      "cell_type": "code",
      "execution_count": null,
      "metadata": {
        "colab": {
          "base_uri": "https://localhost:8080/"
        },
        "id": "aZRigEyJpTrQ",
        "outputId": "fdd492ce-1abd-4a16-f152-89297e46f7bf"
      },
      "outputs": [
        {
          "output_type": "execute_result",
          "data": {
            "text/plain": [
              "38136    True\n",
              "19900    Fake\n",
              "44204    True\n",
              "44272    True\n",
              "23718    True\n",
              "         ... \n",
              "9558     Fake\n",
              "31221    True\n",
              "2075     Fake\n",
              "22975    Fake\n",
              "28217    True\n",
              "Name: label, Length: 44898, dtype: object"
            ]
          },
          "metadata": {},
          "execution_count": 14
        }
      ],
      "source": [
        "train_data['label']"
      ]
    },
    {
      "cell_type": "code",
      "execution_count": null,
      "metadata": {
        "colab": {
          "base_uri": "https://localhost:8080/"
        },
        "id": "YtIbdFbO4eIp",
        "outputId": "dd86dc76-345d-49c0-e936-cc001862e502"
      },
      "outputs": [
        {
          "output_type": "stream",
          "name": "stdout",
          "text": [
            "35918 8980 44898\n"
          ]
        }
      ],
      "source": [
        "from sklearn.model_selection import train_test_split\n",
        "\n",
        "X_train, X_test, label_train, label_test = train_test_split(train_data['text'], y, test_size=0.2, random_state = 42)\n",
        "\n",
        "print(len(X_train), len(X_test), len(X_train) + len(X_test))"
      ]
    },
    {
      "cell_type": "code",
      "execution_count": null,
      "metadata": {
        "id": "M5JJXblx7VKA"
      },
      "outputs": [],
      "source": [
        "#lemmatizing the text : only keeping the rrots of the words\n",
        "#tokenizing the text : splitting the words into smaller units \n",
        "class LemmaTokenizer(object):\n",
        "    def __init__(self):\n",
        "        self.wnl=WordNetLemmatizer()\n",
        "    def __call__(self,doc):\n",
        "        return [self.wnl.lemmatize(t) for t in word_tokenize(doc)]"
      ]
    },
    {
      "cell_type": "code",
      "execution_count": null,
      "metadata": {
        "id": "ZgNfwmrZ7HJQ"
      },
      "outputs": [],
      "source": [
        "#vectorizing the words and making n-grams\n",
        "from sklearn.feature_extraction.text import TfidfVectorizer\n",
        "\n",
        "text_stopwords=stopwords.words()\n",
        "vectorizer=TfidfVectorizer(analyzer='word',input='content',\n",
        "                           lowercase=True,\n",
        "                           token_pattern='(?u)\\\\b\\\\w\\\\w+\\\\b',\n",
        "                           min_df=3,\n",
        "                           ngram_range=(1,3),\n",
        "                           tokenizer=LemmaTokenizer(),stop_words=text_stopwords)"
      ]
    },
    {
      "cell_type": "code",
      "execution_count": null,
      "metadata": {
        "colab": {
          "base_uri": "https://localhost:8080/"
        },
        "id": "CdtDQK1m75AE",
        "outputId": "51440edf-dd10-4385-a7d3-d00b54f8114e"
      },
      "outputs": [
        {
          "output_type": "stream",
          "name": "stderr",
          "text": [
            "[nltk_data] Downloading package wordnet to /root/nltk_data...\n",
            "[nltk_data] Downloading package omw-1.4 to /root/nltk_data...\n"
          ]
        },
        {
          "output_type": "execute_result",
          "data": {
            "text/plain": [
              "True"
            ]
          },
          "metadata": {},
          "execution_count": 18
        }
      ],
      "source": [
        "import nltk\n",
        "nltk.download('wordnet')\n",
        "nltk.download('omw-1.4')"
      ]
    },
    {
      "cell_type": "code",
      "execution_count": null,
      "metadata": {
        "colab": {
          "base_uri": "https://localhost:8080/"
        },
        "id": "KVDnjcAB7W5_",
        "outputId": "b43f29d7-3a4c-46e2-87a2-91cc87155de1"
      },
      "outputs": [
        {
          "output_type": "stream",
          "name": "stderr",
          "text": [
            "/usr/local/lib/python3.7/dist-packages/sklearn/feature_extraction/text.py:401: UserWarning: Your stop_words may be inconsistent with your preprocessing. Tokenizing the stop words generated tokens [\"'\", \"'d\", \"'ll\", \"'m\", \"'re\", \"'s\", \"'ve\", '.', '?', 'aldiz', 'avon', 'baizik', 'ban', 'bukatzeko', 'diesis', 'doe', 'dy', 'edota', 'ell', 'eze', 'ezpabere', 'ezpada', 'ezperen', 'f', 'fin', 'forum', 'fuss', 'gainera', 'gainerontzean', 'give', 'greeting', 'guztiz', 'hainbestez', 'horra', 'jinni', 'mus', \"n't\", 'onların', 'ordea', 'osterantzean', 'quantum', 'quine', 'reed', 'regard', 'serum', 'sha', 'sol', 'tote', 'wa', 'δ', 'δι', 'агар-чи', 'аз-баски', 'афташ', 'бале', 'баҳри', 'болои', 'валекин', 'вақте', 'вуҷуди', 'гар', 'гарчанде', 'даме', 'карда', 'кошки', 'куя', 'кӣ', 'магар', 'майлаш', 'модоме', 'нияти', 'онан', 'оре', 'рӯи', 'сар', 'тразе', 'хом', 'хуб', 'чаро', 'чи', 'чунон', 'ш', 'шарте', 'қадар', 'ҳай-ҳай', 'ҳамин', 'ҳатто', 'ҳо', 'ҳой-ҳой', 'ҳол', 'ҳолате', 'ӯим', 'באיזו', 'בו', 'במקום', 'בשעה', 'הסיבה', 'לאיזו', 'למקום', 'מאיזו', 'מידה', 'מקום', 'סיבה', 'ש', 'שבגללה', 'שבו', 'תכלית', 'أفعل', 'أفعله', 'انفك', 'برح', 'سيما', 'कम', 'से', 'ἀλλ', '’'] not in stop_words.\n",
            "  % sorted(inconsistent)\n"
          ]
        }
      ],
      "source": [
        "x_train=vectorizer.fit_transform(X_train) # Preprocessing the train text data \n",
        "        \n",
        "x_test=vectorizer.transform(X_test) # Preprocessing the test text data \n"
      ]
    },
    {
      "cell_type": "raw",
      "metadata": {
        "id": "2-kxO9oMZldQ"
      },
      "source": [
        "https://medium.com/swlh/fake-news-detection-using-machine-learning-69ff9050351f\n"
      ]
    },
    {
      "cell_type": "code",
      "execution_count": null,
      "metadata": {
        "colab": {
          "base_uri": "https://localhost:8080/"
        },
        "id": "uQQV9jDwZldQ",
        "outputId": "e377c33d-c085-4c33-c700-edec5de3bfbe"
      },
      "outputs": [
        {
          "output_type": "stream",
          "name": "stdout",
          "text": [
            "[0.98360656 0.98381295 0.9826087  0.98757249 0.98714653 0.9751773\n",
            " 0.98606272 0.98774741 0.9867374  0.98263889 0.98418278 0.9846678\n",
            " 0.98562975 0.97608503 0.98632479 0.98209719 0.98418278 0.98963731\n",
            " 0.97980685 0.98714653 0.97931034 0.97913043 0.98426573 0.98791019\n",
            " 0.98322148 0.98671391 0.98659966 0.98984772 0.98113208 0.98165939]\n"
          ]
        }
      ],
      "source": [
        "#implementing multinomial naive bayes\n",
        "from sklearn.naive_bayes import MultinomialNB\n",
        "from sklearn.model_selection import KFold\n",
        "model_lg = MultinomialNB()\n",
        "#model training \n",
        "model_lg.fit(x_train, label_train)\n",
        "# evaluate model\n",
        "cv = KFold(n_splits=30, random_state=1, shuffle=True)\n",
        "scores = cross_val_score(model_lg, x_train, label_train, scoring='f1', cv=cv, n_jobs=-1)\n",
        "print(scores)"
      ]
    },
    {
      "cell_type": "code",
      "execution_count": null,
      "metadata": {
        "colab": {
          "base_uri": "https://localhost:8080/"
        },
        "id": "SiaFJuGQZldQ",
        "outputId": "c5cda378-1709-4910-e742-7e19aaa2c89b"
      },
      "outputs": [
        {
          "output_type": "stream",
          "name": "stdout",
          "text": [
            "0.9820712694877506\n"
          ]
        }
      ],
      "source": [
        "# report performance\n",
        "test_acacuracy=model_lg.score(x_test,label_test)\n",
        "print(test_acacuracy)"
      ]
    },
    {
      "cell_type": "code",
      "execution_count": null,
      "metadata": {
        "id": "RGjF-fQ4ZldQ"
      },
      "outputs": [],
      "source": [
        "#predicting on x_test\n",
        "predictions2=model_lg.predict(x_test)"
      ]
    },
    {
      "cell_type": "code",
      "execution_count": null,
      "metadata": {
        "colab": {
          "base_uri": "https://localhost:8080/"
        },
        "id": "Fi1nLax-ZldQ",
        "outputId": "1e172bda-db0c-42dd-d2d5-2f6423805462"
      },
      "outputs": [
        {
          "output_type": "stream",
          "name": "stdout",
          "text": [
            "              precision    recall  f1-score   support\n",
            "\n",
            "           0       0.97      1.00      0.98      4553\n",
            "           1       1.00      0.97      0.98      4427\n",
            "\n",
            "    accuracy                           0.98      8980\n",
            "   macro avg       0.98      0.98      0.98      8980\n",
            "weighted avg       0.98      0.98      0.98      8980\n",
            "\n"
          ]
        }
      ],
      "source": [
        "#classification report\n",
        "from sklearn.metrics import classification_report\n",
        "print(classification_report(predictions2,label_test))"
      ]
    },
    {
      "cell_type": "code",
      "execution_count": null,
      "metadata": {
        "id": "_yU2K3yM4eIt"
      },
      "outputs": [],
      "source": [
        "#TestCheck\n",
        "input_text=\"Two days after his mother's death thrust him onto the throne, King Charles III was officially announced as Britain’s monarch Saturday, in a pomp-filled ceremony steeped in ancient tradition and political symbolism — and, for the first time, broadcast live. Charles, who spent seven decades as heir apparent, automatically became king when his mother, Queen Elizabeth II, died on Thursday, but the accession ceremony was a key constitutional and ceremonial step in introducing the new monarch to the country, a relic of a time before.\"\n",
        "\n",
        "input_text=vectorizer.transform([input_text])"
      ]
    },
    {
      "cell_type": "code",
      "source": [
        "model_lg.predict(input_text)"
      ],
      "metadata": {
        "colab": {
          "base_uri": "https://localhost:8080/"
        },
        "id": "R8ZoqqK6lbWU",
        "outputId": "8867c521-3b41-4e06-8927-5125f1c40832"
      },
      "execution_count": null,
      "outputs": [
        {
          "output_type": "execute_result",
          "data": {
            "text/plain": [
              "array([1])"
            ]
          },
          "metadata": {},
          "execution_count": 26
        }
      ]
    },
    {
      "cell_type": "code",
      "execution_count": null,
      "metadata": {
        "colab": {
          "base_uri": "https://localhost:8080/"
        },
        "id": "AjhsSRvE4eIu",
        "outputId": "e84d8e18-db66-4bab-b2c2-dd626da3376d"
      },
      "outputs": [
        {
          "output_type": "execute_result",
          "data": {
            "text/plain": [
              "['text.joblib']"
            ]
          },
          "metadata": {},
          "execution_count": 31
        }
      ],
      "source": [
        "#creating the model\n",
        "import joblib\n",
        "joblib.dump(model_lg,'text.joblib')"
      ]
    },
    {
      "cell_type": "code",
      "execution_count": null,
      "metadata": {
        "id": "mC9odXJT4eIv"
      },
      "outputs": [],
      "source": [
        "#loading the saved model\n",
        "rf_model=joblib.load('text.joblib')"
      ]
    },
    {
      "cell_type": "code",
      "source": [
        "#doing predictions\n",
        "rf_model.predict(input_text)"
      ],
      "metadata": {
        "colab": {
          "base_uri": "https://localhost:8080/"
        },
        "id": "mY8TGOfLn-i1",
        "outputId": "016fb465-9924-472b-b101-28501e05a809"
      },
      "execution_count": null,
      "outputs": [
        {
          "output_type": "execute_result",
          "data": {
            "text/plain": [
              "array([1])"
            ]
          },
          "metadata": {},
          "execution_count": 30
        }
      ]
    },
    {
      "cell_type": "code",
      "source": [],
      "metadata": {
        "id": "9uIFrfYZoJ9b"
      },
      "execution_count": null,
      "outputs": []
    }
  ],
  "metadata": {
    "accelerator": "GPU",
    "colab": {
      "collapsed_sections": [],
      "provenance": []
    },
    "gpuClass": "standard",
    "kernelspec": {
      "display_name": "Python 3 (ipykernel)",
      "language": "python",
      "name": "python3"
    },
    "language_info": {
      "codemirror_mode": {
        "name": "ipython",
        "version": 3
      },
      "file_extension": ".py",
      "mimetype": "text/x-python",
      "name": "python",
      "nbconvert_exporter": "python",
      "pygments_lexer": "ipython3",
      "version": "3.8.13"
    }
  },
  "nbformat": 4,
  "nbformat_minor": 0
}